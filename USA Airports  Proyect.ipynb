{
 "cells": [
  {
   "cell_type": "markdown",
   "id": "ec4291b4",
   "metadata": {},
   "source": [
    "# Análisis de la tasa de ocupación en vuelos nacionales dentro de EE.UU (1990-2009)\n",
    "\n",
    "En este proyecto analizaremos la tasa de ocupación de vuelos (pasajeros/asientos) en los vuelos realizados dentro de los Estados Unidos en el período 1990-2009. \n",
    "\n",
    "Al ser una base de datos de grandes dimensiones (3606803 * 15) utilizaremos un contexto de pyspark para poder desplegar consultas de SQL en Big Data. \n",
    "\n",
    "La visualización de los datos la realizaremos en Tableau"
   ]
  },
  {
   "cell_type": "markdown",
   "id": "97a6aa02",
   "metadata": {},
   "source": [
    "## 1. Importación de librerías"
   ]
  },
  {
   "cell_type": "code",
   "execution_count": 1,
   "id": "31d4d52c",
   "metadata": {},
   "outputs": [],
   "source": [
    "import numpy as np\n",
    "import pandas as pd \n",
    "import matplotlib.pyplot as plt \n",
    "import findspark\n",
    "findspark.init()\n",
    "import pyspark\n",
    "from pyspark import SparkConf, SparkContext, SQLContext\n",
    "from pyspark.sql import SparkSession"
   ]
  },
  {
   "cell_type": "markdown",
   "id": "3f09cbfa",
   "metadata": {},
   "source": [
    "## 2. Inicialización de pyspark y contexto sql"
   ]
  },
  {
   "cell_type": "code",
   "execution_count": 2,
   "id": "93c6f88d",
   "metadata": {},
   "outputs": [],
   "source": [
    "sc = SparkSession.builder\\\n",
    "        .master(\"local\")\\\n",
    "        .appName(\"Airports\")\\\n",
    "        .config(\"spark.logLevel\", \"WARN\")\\\n",
    "        .getOrCreate()"
   ]
  },
  {
   "cell_type": "code",
   "execution_count": 3,
   "id": "7bce7145",
   "metadata": {},
   "outputs": [
    {
     "name": "stderr",
     "output_type": "stream",
     "text": [
      "C:\\Users\\juanv\\anaconda3\\Lib\\site-packages\\pyspark\\sql\\context.py:113: FutureWarning: Deprecated in 3.0.0. Use SparkSession.builder.getOrCreate() instead.\n",
      "  warnings.warn(\n"
     ]
    }
   ],
   "source": [
    "sqlContext = SQLContext(sc)"
   ]
  },
  {
   "cell_type": "code",
   "execution_count": 4,
   "id": "18e137ab",
   "metadata": {},
   "outputs": [
    {
     "data": {
      "text/html": [
       "\n",
       "            <div>\n",
       "                <p><b>SparkSession - in-memory</b></p>\n",
       "                \n",
       "        <div>\n",
       "            <p><b>SparkContext</b></p>\n",
       "\n",
       "            <p><a href=\"http://192.168.1.143:4040\">Spark UI</a></p>\n",
       "\n",
       "            <dl>\n",
       "              <dt>Version</dt>\n",
       "                <dd><code>v3.5.1</code></dd>\n",
       "              <dt>Master</dt>\n",
       "                <dd><code>local</code></dd>\n",
       "              <dt>AppName</dt>\n",
       "                <dd><code>Airports</code></dd>\n",
       "            </dl>\n",
       "        </div>\n",
       "        \n",
       "            </div>\n",
       "        "
      ],
      "text/plain": [
       "<pyspark.sql.session.SparkSession at 0x20b515f3390>"
      ]
     },
     "execution_count": 4,
     "metadata": {},
     "output_type": "execute_result"
    }
   ],
   "source": [
    "sc"
   ]
  },
  {
   "cell_type": "markdown",
   "id": "d6dce01b",
   "metadata": {},
   "source": [
    "## 3. Carga de datos"
   ]
  },
  {
   "cell_type": "code",
   "execution_count": 5,
   "id": "5f7e126e",
   "metadata": {},
   "outputs": [
    {
     "name": "stderr",
     "output_type": "stream",
     "text": [
      "C:\\Users\\juanv\\anaconda3\\Lib\\site-packages\\pyspark\\sql\\dataframe.py:329: FutureWarning: Deprecated in 2.0, use createOrReplaceTempView instead.\n",
      "  warnings.warn(\"Deprecated in 2.0, use createOrReplaceTempView instead.\", FutureWarning)\n"
     ]
    }
   ],
   "source": [
    "airports = sc.read.csv(\"Airports.csv\", header=True, inferSchema=True)\n",
    "airports.registerTempTable('airports')"
   ]
  },
  {
   "cell_type": "markdown",
   "id": "9823a987",
   "metadata": {},
   "source": [
    "## 4. Exploración / Limpieza de datos"
   ]
  },
  {
   "cell_type": "code",
   "execution_count": 6,
   "id": "64e84cc6",
   "metadata": {},
   "outputs": [
    {
     "name": "stdout",
     "output_type": "stream",
     "text": [
      "Loaded dataset contains 3606803 ruta * mes\n",
      "Loaded dataset contains 15 columns\n"
     ]
    }
   ],
   "source": [
    "print(\"Loaded dataset contains %d ruta * mes\" % airports.count())\n",
    "print(\"Loaded dataset contains %d columns\" % len(airports.columns))"
   ]
  },
  {
   "cell_type": "code",
   "execution_count": 7,
   "id": "1d3bf2c0",
   "metadata": {},
   "outputs": [
    {
     "name": "stdout",
     "output_type": "stream",
     "text": [
      "root\n",
      " |-- Origin_airport: string (nullable = true)\n",
      " |-- Destination_airport: string (nullable = true)\n",
      " |-- Origin_city: string (nullable = true)\n",
      " |-- Destination_city: string (nullable = true)\n",
      " |-- Passengers: integer (nullable = true)\n",
      " |-- Seats: integer (nullable = true)\n",
      " |-- Flights: integer (nullable = true)\n",
      " |-- Distance: integer (nullable = true)\n",
      " |-- Fly_date: date (nullable = true)\n",
      " |-- Origin_population: integer (nullable = true)\n",
      " |-- Destination_population: integer (nullable = true)\n",
      " |-- Org_airport_lat: string (nullable = true)\n",
      " |-- Org_airport_long: string (nullable = true)\n",
      " |-- Dest_airport_lat: string (nullable = true)\n",
      " |-- Dest_airport_long: string (nullable = true)\n",
      "\n"
     ]
    }
   ],
   "source": [
    "airports.printSchema()"
   ]
  },
  {
   "cell_type": "code",
   "execution_count": 79,
   "id": "f98e4bda",
   "metadata": {},
   "outputs": [
    {
     "name": "stdout",
     "output_type": "stream",
     "text": [
      "+-------+------------------+-----------------+------------------+-----------------+-----------------+----------------------+\n",
      "|summary|        Passengers|            Seats|           Flights|         Distance|Origin_population|Destination_population|\n",
      "+-------+------------------+-----------------+------------------+-----------------+-----------------+----------------------+\n",
      "|  count|           3606803|          3606803|           3606803|          3606803|          3606803|               3606803|\n",
      "|   mean|2688.9104331453646|4048.297368888736| 37.22889855642241|697.3190326724249| 5871502.49894491|      5897982.44118434|\n",
      "| stddev|  4347.61704769634|6200.871210153885|49.619697799496414|604.4165108483492|7858061.601821028|     7906127.406405261|\n",
      "|    min|                 0|                0|                 0|                0|            13005|                 12887|\n",
      "|    max|             89597|           147062|              1128|             5095|         38139592|              38139592|\n",
      "+-------+------------------+-----------------+------------------+-----------------+-----------------+----------------------+\n",
      "\n"
     ]
    }
   ],
   "source": [
    "airports.describe(\"Passengers\", \"Seats\", \"Flights\", \"Distance\", \"Origin_population\", \"Destination_population\").show()"
   ]
  },
  {
   "cell_type": "markdown",
   "id": "aab18a32",
   "metadata": {},
   "source": [
    "Las grandes desviaciones estándares de las variables Passengers, Seats y Flights y Distance nos da entender una gran variabilidad de los datos. Además, debemos tener en cuenta que el mínimo de dichas columnas es 0, lo que significa la posible existencia de vuelos sin pasajeros (probable), vuelos sin asientos (no probable), rutas sin vuelos, y rutas sin distancia (no probable). Por tal razón en la sección de limpieza de datos eliminaremos los registros que tengan 0 Seats y 0 Fligths. Los registros de 0 Distances lo manipularemos en Tableau."
   ]
  },
  {
   "cell_type": "code",
   "execution_count": 9,
   "id": "3e467a98",
   "metadata": {},
   "outputs": [
    {
     "name": "stdout",
     "output_type": "stream",
     "text": [
      "+--------------+-------------------+----------+------+-------+----------+\n",
      "|Origin_airport|Destination_airport|Passengers| Seats|Flights|  Fly_date|\n",
      "+--------------+-------------------+----------+------+-------+----------+\n",
      "|           OGG|                HNL|     89597|116785|    960|2009-07-01|\n",
      "|           OGG|                HNL|     87037|116326|    957|2009-08-01|\n",
      "|           HNL|                OGG|     85759|112965|    930|2009-07-01|\n",
      "|           SFO|                LAX|     83153|142128|   1128|1994-12-01|\n",
      "|           OGG|                HNL|     82436|105421|    867|2009-09-01|\n",
      "|           HNL|                OGG|     82347|112413|    926|2009-08-01|\n",
      "|           LAX|                SFO|     82298|127764|   1014|1995-03-01|\n",
      "|           OGG|                HNL|     82296|107929|    888|2009-03-01|\n",
      "|           SFO|                LAX|     81322|127512|   1012|1995-03-01|\n",
      "|           OGG|                HNL|     80548|101575|    840|1999-08-01|\n",
      "|           LAX|                SFO|     80450|141876|   1126|1994-12-01|\n",
      "|           OGG|                HNL|     80339|108140|    890|2009-10-01|\n",
      "|           OGG|                HNL|     80070|107874|    888|2009-05-01|\n",
      "|           SFO|                LAX|     80000|108360|    860|1994-11-01|\n",
      "|           OGG|                HNL|     79879|106995|    880|2009-06-01|\n",
      "+--------------+-------------------+----------+------+-------+----------+\n",
      "only showing top 15 rows\n",
      "\n"
     ]
    }
   ],
   "source": [
    "airports.orderBy(airports[\"Passengers\"].desc()).select(\"Origin_airport\",\"Destination_airport\",\"Passengers\",\"Seats\", \"Flights\", \"Fly_date\").show(15)"
   ]
  },
  {
   "cell_type": "markdown",
   "id": "003096ba",
   "metadata": {},
   "source": [
    "De manera preliminar podemos observar que los vuelos realizados entre OGG - NHL los meses de julio y agosto (verano) de 2009 son los que tienen más pasajeros. Podemos observar que en la lista de los vuelos con más pasajeros también se incluye la ruta contraria (HNL-OGG) y los vuelos que hacen la ruta LAX-SFO (ida y vuelta)."
   ]
  },
  {
   "cell_type": "code",
   "execution_count": 10,
   "id": "6dfdca98",
   "metadata": {},
   "outputs": [
    {
     "name": "stdout",
     "output_type": "stream",
     "text": [
      "Fecha máxima de vuelo: 2009-12-01\n",
      "Fecha mínima de vuelo: 1990-01-01\n"
     ]
    }
   ],
   "source": [
    "from pyspark.sql.functions import max, min\n",
    "max_date = airports.agg(max(\"Fly_date\")).collect()[0][0]\n",
    "min_date = airports.agg(min(\"Fly_date\")).collect()[0][0]\n",
    "print(\"Fecha máxima de vuelo:\", max_date)\n",
    "print(\"Fecha mínima de vuelo:\", min_date)"
   ]
  },
  {
   "cell_type": "code",
   "execution_count": 57,
   "id": "23ee5173",
   "metadata": {},
   "outputs": [
    {
     "name": "stdout",
     "output_type": "stream",
     "text": [
      "+--------------+-------------------+----------+-----+-------+----------+\n",
      "|Origin_airport|Destination_airport|Passengers|Seats|Flights|  Fly_date|\n",
      "+--------------+-------------------+----------+-----+-------+----------+\n",
      "|           SEA|                RDM|         0|    0|      0|1993-09-01|\n",
      "|           SEA|                RDM|         0|    0|      0|1997-01-01|\n",
      "|           PDX|                RDM|         0|    0|     25|2002-10-01|\n",
      "|           PDX|                RDM|         0|    0|     27|2002-12-01|\n",
      "|           PDX|                RDM|         0|    0|     26|2002-11-01|\n",
      "|           PDX|                RDM|         0|    0|     25|2002-11-01|\n",
      "|           PDX|                RDM|         0|    0|     25|2002-10-01|\n",
      "|           PDX|                RDM|         0|    0|     27|2002-12-01|\n",
      "|           PDX|                RDM|         0|    0|     23|2003-11-01|\n",
      "|           PDX|                RDM|         0|    0|     24|2003-02-01|\n",
      "|           PDX|                RDM|         0|    0|     22|2003-08-01|\n",
      "|           PDX|                RDM|         0|    0|     24|2003-01-01|\n",
      "|           PDX|                RDM|         0|    0|     22|2003-04-01|\n",
      "|           PDX|                RDM|         0|    0|     23|2003-11-01|\n",
      "|           PDX|                RDM|         0|    0|     22|2003-07-01|\n",
      "|           PDX|                RDM|         0|    0|     22|2003-08-01|\n",
      "|           PDX|                RDM|         0|    0|     23|2003-02-01|\n",
      "|           PDX|                RDM|         0|    0|     20|2003-09-01|\n",
      "|           PDX|                RDM|         0|    0|     21|2003-01-01|\n",
      "|           PDX|                RDM|         0|    0|     22|2003-05-01|\n",
      "+--------------+-------------------+----------+-----+-------+----------+\n",
      "only showing top 20 rows\n",
      "\n"
     ]
    }
   ],
   "source": [
    "flights_zero = airports.filter((airports[\"Flights\"] == 0) | (airports[\"Seats\"] == 0))\n",
    "\n",
    "# Mostrar el resultado\n",
    "flights_zero.select(\"Origin_airport\", \"Destination_airport\", \"Passengers\", \"Seats\", \"Flights\", \"Fly_date\").show()"
   ]
  },
  {
   "cell_type": "markdown",
   "id": "71d7a24f",
   "metadata": {},
   "source": [
    "Aquí podemos observar que hay registros que en pasajeros, sillas y vuelos tienen un 0. Tendríamos la opción de imputar estos valores por la mediana de cada ruta, pero para avanzar más rápido en el análisis borraremos estos registros.\n"
   ]
  },
  {
   "cell_type": "code",
   "execution_count": 82,
   "id": "c7766201",
   "metadata": {},
   "outputs": [
    {
     "data": {
      "text/plain": [
       "334186"
      ]
     },
     "execution_count": 82,
     "metadata": {},
     "output_type": "execute_result"
    }
   ],
   "source": [
    "flights_zero.count()"
   ]
  },
  {
   "cell_type": "markdown",
   "id": "c49d091c",
   "metadata": {},
   "source": [
    "Tengamos en cuenta que los registros que tienen 0 en vuelos o 0 en sillas representan un poco más del 9% del total de observaciones. Esto significa que no deberíamos borrarlos sino investigar por qué existen tantos datos que pueden ser considerados como posibles errores. En este ejercicio, optaremos por borrarlos por no contar con los recursos suficientes para indagar más al respecto. "
   ]
  },
  {
   "cell_type": "code",
   "execution_count": 59,
   "id": "74f09a80",
   "metadata": {},
   "outputs": [],
   "source": [
    "filtered_airports = airports.filter(~((airports[\"Flights\"] == 0) | (airports[\"Seats\"] == 0)))"
   ]
  },
  {
   "cell_type": "code",
   "execution_count": 60,
   "id": "41c02436",
   "metadata": {},
   "outputs": [
    {
     "data": {
      "text/plain": [
       "3272617"
      ]
     },
     "execution_count": 60,
     "metadata": {},
     "output_type": "execute_result"
    }
   ],
   "source": [
    "filtered_airports.count()"
   ]
  },
  {
   "cell_type": "markdown",
   "id": "c9f4fbc2",
   "metadata": {},
   "source": [
    "## 5. SQL Queries"
   ]
  },
  {
   "cell_type": "code",
   "execution_count": 61,
   "id": "b470d55d",
   "metadata": {},
   "outputs": [],
   "source": [
    "from pyspark.sql.functions import col\n",
    "from pyspark.sql.functions import desc"
   ]
  },
  {
   "cell_type": "code",
   "execution_count": 62,
   "id": "b830fa19",
   "metadata": {},
   "outputs": [],
   "source": [
    "filtered_airports.createOrReplaceTempView(\"airports\")"
   ]
  },
  {
   "cell_type": "markdown",
   "id": "11e4773f",
   "metadata": {},
   "source": [
    "### 5.1 Pasajeros por aeropuerto de origen"
   ]
  },
  {
   "cell_type": "code",
   "execution_count": 63,
   "id": "c39e7302",
   "metadata": {},
   "outputs": [
    {
     "name": "stdout",
     "output_type": "stream",
     "text": [
      "+--------------+----------------+\n",
      "|Origin_airport|Total_Passengers|\n",
      "+--------------+----------------+\n",
      "|           ATL|       577124268|\n",
      "|           ORD|       529017907|\n",
      "|           DFW|       457153720|\n",
      "|           LAX|       393005635|\n",
      "|           PHX|       295857703|\n",
      "|           LAS|       270590248|\n",
      "|           DTW|       250983023|\n",
      "|           MSP|       245197238|\n",
      "|           SFO|       243779917|\n",
      "|           IAH|       228367406|\n",
      "+--------------+----------------+\n",
      "\n"
     ]
    }
   ],
   "source": [
    "query_1 = \"\"\"\n",
    "            SELECT Origin_airport, SUM(Passengers) AS Total_Passengers\n",
    "            FROM airports\n",
    "            GROUP BY Origin_airport\n",
    "            ORDER BY Total_Passengers DESC\n",
    "            LIMIT 10\n",
    "          \"\"\"\n",
    "result_1 = sqlContext.sql(query_1)\n",
    "\n",
    "# Mostrar los primeros 10 resultados\n",
    "result_1.show(10)"
   ]
  },
  {
   "cell_type": "markdown",
   "id": "31b3d7f0",
   "metadata": {},
   "source": [
    "### 5.2 Pasajeros por aeropuerto de destino"
   ]
  },
  {
   "cell_type": "code",
   "execution_count": 64,
   "id": "036cee66",
   "metadata": {},
   "outputs": [
    {
     "name": "stdout",
     "output_type": "stream",
     "text": [
      "+-------------------+----------------+\n",
      "|Destination_airport|Total_Passengers|\n",
      "+-------------------+----------------+\n",
      "|                ATL|       577954144|\n",
      "|                ORD|       528648148|\n",
      "|                DFW|       458322527|\n",
      "|                LAX|       389476602|\n",
      "|                PHX|       295580444|\n",
      "|                LAS|       269144965|\n",
      "|                DTW|       251467874|\n",
      "|                MSP|       245774036|\n",
      "|                SFO|       242283245|\n",
      "|                IAH|       229104958|\n",
      "+-------------------+----------------+\n",
      "\n"
     ]
    }
   ],
   "source": [
    "query_2 = \"\"\"\n",
    "             SELECT Destination_airport, SUM(Passengers) AS Total_Passengers \n",
    "             FROM airports \n",
    "             GROUP BY Destination_airport \n",
    "             ORDER BY Total_Passengers DESC \n",
    "             LIMIT 10\n",
    "          \"\"\"\n",
    "\n",
    "result_2 = sqlContext.sql(query_2)\n",
    "\n",
    "result_2.show()"
   ]
  },
  {
   "cell_type": "markdown",
   "id": "e88b23fc",
   "metadata": {},
   "source": [
    "Los aeropuertos con mayor número de pasajeros saliendo y llegando son Atlanta (ATL) y Chicago (ORD)"
   ]
  },
  {
   "cell_type": "markdown",
   "id": "711596af",
   "metadata": {},
   "source": [
    "### 5.3 Vuelos por aeropuerto de origen"
   ]
  },
  {
   "cell_type": "code",
   "execution_count": 65,
   "id": "3b62faba",
   "metadata": {},
   "outputs": [
    {
     "name": "stdout",
     "output_type": "stream",
     "text": [
      "+--------------+-------------+\n",
      "|Origin_airport|Total_Flights|\n",
      "+--------------+-------------+\n",
      "|           ORD|      6818070|\n",
      "|           ATL|      6503131|\n",
      "|           DFW|      5935095|\n",
      "|           LAX|      3980655|\n",
      "|           DTW|      3435617|\n",
      "|           MSP|      3177751|\n",
      "|           IAH|      3173117|\n",
      "|           PHX|      3169851|\n",
      "|           STL|      3167024|\n",
      "|           CLT|      2825912|\n",
      "+--------------+-------------+\n",
      "\n"
     ]
    }
   ],
   "source": [
    "query_3 = \"\"\"\n",
    "            SELECT Origin_airport, SUM(Flights) AS Total_Flights\n",
    "            FROM airports\n",
    "            GROUP BY Origin_airport\n",
    "            ORDER BY Total_Flights DESC\n",
    "            LIMIT 10\n",
    "          \"\"\"\n",
    "\n",
    "result_3 = sqlContext.sql(query_3)\n",
    "\n",
    "result_3.show()"
   ]
  },
  {
   "cell_type": "markdown",
   "id": "82e19737",
   "metadata": {},
   "source": [
    "### 5.4 Vuelos por aeropuerto de destino"
   ]
  },
  {
   "cell_type": "code",
   "execution_count": 66,
   "id": "18dd544b",
   "metadata": {},
   "outputs": [
    {
     "name": "stdout",
     "output_type": "stream",
     "text": [
      "+-------------------+-------------+\n",
      "|Destination_airport|Total_Flights|\n",
      "+-------------------+-------------+\n",
      "|                ORD|      6803504|\n",
      "|                ATL|      6492397|\n",
      "|                DFW|      5924464|\n",
      "|                LAX|      3979424|\n",
      "|                DTW|      3431092|\n",
      "|                MSP|      3173187|\n",
      "|                IAH|      3171937|\n",
      "|                PHX|      3164813|\n",
      "|                STL|      3162735|\n",
      "|                CLT|      2821610|\n",
      "+-------------------+-------------+\n",
      "\n"
     ]
    }
   ],
   "source": [
    "query_4 = \"\"\"\n",
    "            SELECT Destination_airport, SUM(Flights) AS Total_Flights\n",
    "            FROM airports\n",
    "            GROUP BY Destination_airport\n",
    "            ORDER BY Total_Flights DESC\n",
    "            LIMIT 10\n",
    "          \"\"\"\n",
    "\n",
    "result_4 = sqlContext.sql(query_4)\n",
    "\n",
    "result_4.show()"
   ]
  },
  {
   "cell_type": "markdown",
   "id": "ff689cc3",
   "metadata": {},
   "source": [
    "Los aeropuertos de donde más salen y llegan vuelos son Chicago (ORD) y Atlanta (ATL)"
   ]
  },
  {
   "cell_type": "markdown",
   "id": "00a0df62",
   "metadata": {},
   "source": [
    "### 5.5 Pasajeros por mes del vuelo "
   ]
  },
  {
   "cell_type": "code",
   "execution_count": 67,
   "id": "3308dd2d",
   "metadata": {},
   "outputs": [
    {
     "name": "stdout",
     "output_type": "stream",
     "text": [
      "+----------+----------+\n",
      "|  Fly_date|Passengers|\n",
      "+----------+----------+\n",
      "|2007-07-01|  54064801|\n",
      "|2005-07-01|  53860117|\n",
      "|2007-08-01|  53572119|\n",
      "|2007-06-01|  52602824|\n",
      "|2008-07-01|  52343636|\n",
      "|2006-07-01|  52067303|\n",
      "|2005-06-01|  51732595|\n",
      "|2004-07-01|  51671090|\n",
      "|2005-08-01|  51223855|\n",
      "|2006-06-01|  50900094|\n",
      "+----------+----------+\n",
      "\n"
     ]
    }
   ],
   "source": [
    "query_5 = \"\"\"\n",
    "             SELECT Fly_date, sum(Passengers) AS Passengers \n",
    "             FROM airports \n",
    "             GROUP BY Fly_date\n",
    "             ORDER BY Passengers DESC \n",
    "             LIMIT 10\n",
    "          \"\"\"\n",
    "\n",
    "result_5 = sqlContext.sql(query_5)\n",
    "\n",
    "result_5.show()"
   ]
  },
  {
   "cell_type": "markdown",
   "id": "e35f47e5",
   "metadata": {},
   "source": [
    "El mayor número de pasajeros se registró en los meses de julio de 2005 y 2007"
   ]
  },
  {
   "cell_type": "markdown",
   "id": "0ac5b3f8",
   "metadata": {},
   "source": [
    "### 5.6 Vuelos por mes del vuelo "
   ]
  },
  {
   "cell_type": "code",
   "execution_count": 68,
   "id": "365cbf98",
   "metadata": {},
   "outputs": [
    {
     "name": "stdout",
     "output_type": "stream",
     "text": [
      "+----------+-------+\n",
      "|  Fly_date|Flights|\n",
      "+----------+-------+\n",
      "|2005-08-01| 706107|\n",
      "|2004-08-01| 702789|\n",
      "|2005-07-01| 700542|\n",
      "|2005-05-01| 699656|\n",
      "|2004-10-01| 697235|\n",
      "|2005-03-01| 695812|\n",
      "|2004-07-01| 688060|\n",
      "|2005-06-01| 685739|\n",
      "|2007-08-01| 678718|\n",
      "|2005-04-01| 676282|\n",
      "+----------+-------+\n",
      "\n"
     ]
    }
   ],
   "source": [
    "query_6 = \"\"\"\n",
    "             SELECT Fly_date, sum(Flights) AS Flights \n",
    "             FROM airports \n",
    "             GROUP BY Fly_date\n",
    "             ORDER BY Flights DESC \n",
    "             LIMIT 10\n",
    "          \"\"\"\n",
    "\n",
    "result_6 = sqlContext.sql(query_6)\n",
    "\n",
    "result_6.show()"
   ]
  },
  {
   "cell_type": "markdown",
   "id": "9ca3dde2",
   "metadata": {},
   "source": [
    "El mayor número de vuelos se registró en los meses de agosto de 2004 y 2005. Observemos que las fechas de mayor número de pasajeros y mayor número de vuelos no coinciden"
   ]
  },
  {
   "cell_type": "markdown",
   "id": "cc600f35",
   "metadata": {},
   "source": [
    "### 5.7 Vuelos totales (salidas y llegadas) por aeropuerto "
   ]
  },
  {
   "cell_type": "code",
   "execution_count": 69,
   "id": "90843929",
   "metadata": {},
   "outputs": [
    {
     "name": "stdout",
     "output_type": "stream",
     "text": [
      "+-------+-------------+\n",
      "|Airport|Total_Flights|\n",
      "+-------+-------------+\n",
      "|    ORD|     13621574|\n",
      "|    ATL|     12995528|\n",
      "|    DFW|     11859559|\n",
      "|    LAX|      7960079|\n",
      "|    DTW|      6866709|\n",
      "|    MSP|      6350938|\n",
      "|    IAH|      6345054|\n",
      "|    PHX|      6334664|\n",
      "|    STL|      6329759|\n",
      "|    CLT|      5647522|\n",
      "|    EWR|      5479413|\n",
      "|    LGA|      5368708|\n",
      "|    PHL|      5225478|\n",
      "|    SEA|      5067077|\n",
      "|    LAS|      5008002|\n",
      "+-------+-------------+\n",
      "\n"
     ]
    }
   ],
   "source": [
    "query_7 = \"\"\"\n",
    "             WITH \n",
    "                 destination AS (\n",
    "                     SELECT Destination_airport as Airport, SUM(Flights) AS Out_Flights \n",
    "                     FROM airports \n",
    "                     GROUP BY Destination_airport),\n",
    "                 origin AS (\n",
    "                     SELECT Origin_airport as Airport, SUM(Flights) AS In_Flights \n",
    "                     FROM airports \n",
    "                     GROUP BY Origin_airport)\n",
    "                 SELECT origin.Airport, (destination.Out_Flights+origin.In_Flights) AS Total_Flights\n",
    "                 FROM origin, destination \n",
    "                 WHERE origin.Airport = destination.Airport\n",
    "                 ORDER BY (Total_Flights) DESC\n",
    "                 LIMIT 15;\n",
    "          \"\"\"\n",
    "\n",
    "result_7 = sqlContext.sql(query_7)\n",
    "\n",
    "result_7.show()"
   ]
  },
  {
   "cell_type": "markdown",
   "id": "68035be8",
   "metadata": {},
   "source": [
    "### 5.8 Pasajeros totales (salidas y llegadas) por aeropuerto "
   ]
  },
  {
   "cell_type": "code",
   "execution_count": 70,
   "id": "48f1c2ec",
   "metadata": {},
   "outputs": [
    {
     "name": "stdout",
     "output_type": "stream",
     "text": [
      "+-------+----------------+\n",
      "|Airport|Total_Passengers|\n",
      "+-------+----------------+\n",
      "|    ATL|      1155078412|\n",
      "|    ORD|      1057666055|\n",
      "|    DFW|       915476247|\n",
      "|    LAX|       782482237|\n",
      "|    PHX|       591438147|\n",
      "|    LAS|       539735213|\n",
      "|    DTW|       502450897|\n",
      "|    MSP|       490971274|\n",
      "|    SFO|       486063162|\n",
      "|    IAH|       457472364|\n",
      "|    MCO|       453295762|\n",
      "|    SEA|       424279043|\n",
      "|    EWR|       418210330|\n",
      "|    STL|       409513281|\n",
      "|    CLT|       406475433|\n",
      "+-------+----------------+\n",
      "\n"
     ]
    }
   ],
   "source": [
    "query_8 = \"\"\"\n",
    "             WITH \n",
    "                 destination AS (\n",
    "                     SELECT Destination_airport as Airport, SUM(Passengers) AS Out_Passengers \n",
    "                     FROM airports \n",
    "                     GROUP BY Destination_airport),\n",
    "                 origin AS (\n",
    "                     SELECT Origin_airport as Airport, SUM(Passengers) AS In_Passengers \n",
    "                     FROM airports \n",
    "                     GROUP BY Origin_airport)\n",
    "                 SELECT origin.Airport, (destination.Out_Passengers+origin.In_Passengers) AS Total_Passengers\n",
    "                 FROM origin, destination \n",
    "                 WHERE origin.Airport = destination.Airport\n",
    "                 ORDER BY (Total_Passengers) DESC\n",
    "                 LIMIT 15;\n",
    "          \"\"\"\n",
    "\n",
    "result_8 = sqlContext.sql(query_8)\n",
    "\n",
    "result_8.show()"
   ]
  },
  {
   "cell_type": "markdown",
   "id": "a10f80dd",
   "metadata": {},
   "source": [
    "Los aeropueros de Atlanta (Atl) y Chicago (ORD) son lo que mayor número de vuelos y pasajeros tienen en consolidados de vuelos y pasajeros (llegadas y salidas)"
   ]
  },
  {
   "cell_type": "markdown",
   "id": "06a7151d",
   "metadata": {},
   "source": [
    "### 5.9 Cálculo de la tasa de ocupación (pasajeros/asientos)"
   ]
  },
  {
   "cell_type": "code",
   "execution_count": 91,
   "id": "9692cde9",
   "metadata": {},
   "outputs": [
    {
     "name": "stdout",
     "output_type": "stream",
     "text": [
      "+----------------+-----------+--------------+\n",
      "|Total_Passengers|Total_Seats|Occupancy_Rate|\n",
      "+----------------+-----------+--------------+\n",
      "|      9698351442|14601328755|         66.42|\n",
      "+----------------+-----------+--------------+\n",
      "\n"
     ]
    }
   ],
   "source": [
    "query_16 = \"\"\"\n",
    "            SELECT SUM(Passengers) AS Total_Passengers,\n",
    "                   SUM(Seats) AS Total_Seats,\n",
    "                   ROUND((SUM(Passengers)*100/SUM(Seats)), 2) AS Occupancy_Rate  \n",
    "            FROM airports\n",
    "\"\"\"\n",
    "\n",
    "result_16 = sqlContext.sql(query_16)\n",
    "\n",
    "result_16.show()"
   ]
  },
  {
   "cell_type": "markdown",
   "id": "c2fd9e0f",
   "metadata": {},
   "source": [
    "La tasa de ocupación de todas las rutas durante todo el período fue de 66.42"
   ]
  },
  {
   "cell_type": "markdown",
   "id": "5b377b6f",
   "metadata": {},
   "source": [
    "### 5.10 Min de Tasa de ocupación por ruta (ida y vuelta)"
   ]
  },
  {
   "cell_type": "code",
   "execution_count": 72,
   "id": "059253a7",
   "metadata": {},
   "outputs": [
    {
     "name": "stdout",
     "output_type": "stream",
     "text": [
      "+--------+--------+-------+----------+-----+--------------+\n",
      "|Airport1|Airport2|Flights|Passengers|Seats|Occupancy_Rate|\n",
      "+--------+--------+-------+----------+-----+--------------+\n",
      "|     AFW|     JFK|     14|         2| 3459|        0.0578|\n",
      "|     LCK|     TUL|     32|         5| 6838|        0.0731|\n",
      "|     ACY|     NZC|      9|         1| 1098|        0.0911|\n",
      "|     ACT|     JFK|      5|         1|  983|        0.1017|\n",
      "|     MEM|     RFD|      7|         1|  899|        0.1112|\n",
      "|     SYR|     YNG|      7|         1|  852|        0.1174|\n",
      "|     MIA|     TMB|     51|         8| 5915|        0.1352|\n",
      "|     LAF|     MIA|      9|         2| 1397|        0.1432|\n",
      "|     MIA|     POB|     12|         4| 2235|         0.179|\n",
      "|     LBB|     PUB|      4|         1|  452|        0.2212|\n",
      "|     AEX|     BOS|     36|        18| 7584|        0.2373|\n",
      "|     BHM|     ILM|      3|         1|  329|         0.304|\n",
      "|     GSP|     RFD|      2|         1|  321|        0.3115|\n",
      "|     FAT|     HLN|      4|         2|  556|        0.3597|\n",
      "|     RST|     STC|      2|         1|  273|        0.3663|\n",
      "+--------+--------+-------+----------+-----+--------------+\n",
      "\n"
     ]
    }
   ],
   "source": [
    "query_9 = \"\"\"\n",
    "\n",
    "            WITH table1 AS \n",
    "                (\n",
    "                SELECT LEAST(Origin_airport, Destination_airport) AS Airport1, \n",
    "                       GREATEST(Destination_airport, Origin_airport) AS Airport2, \n",
    "                       SUM(Flights) AS Flights,\n",
    "                       SUM(Passengers) AS Passengers,\n",
    "                       SUM(Seats) AS Seats\n",
    "                FROM airports\n",
    "                GROUP BY Airport1, Airport2\n",
    "                ORDER BY 1,2\n",
    "                )\n",
    "            SELECT t.*, ROUND((Passengers*100/Seats), 4) AS Occupancy_Rate\n",
    "            FROM table1 t \n",
    "            WHERE (Passengers * 100 / Seats) IS NOT NULL\n",
    "            AND (Passengers * 100 / Seats) > 0\n",
    "            AND (Passengers * 100 / Seats) <= 100\n",
    "            ORDER BY Occupancy_Rate \n",
    "            LIMIT 15;\n",
    "          \"\"\"\n",
    "\n",
    "result_9 = sqlContext.sql(query_9)\n",
    "\n",
    "result_9.show()"
   ]
  },
  {
   "cell_type": "markdown",
   "id": "e6a885da",
   "metadata": {},
   "source": [
    "Descubrimos que la ruta con menos tasa de ocupación es Fort Worth, TX (AFW) - Nueva York (JFK). Al ser tan baja (0.05%) inspeccionamos con mayor detalle esta ruta"
   ]
  },
  {
   "cell_type": "markdown",
   "id": "4af74e42",
   "metadata": {},
   "source": [
    "### 5.11 Detalle ruta AFW - JFK (ida y vuelta)"
   ]
  },
  {
   "cell_type": "code",
   "execution_count": 73,
   "id": "faa2078b",
   "metadata": {},
   "outputs": [
    {
     "name": "stdout",
     "output_type": "stream",
     "text": [
      "+--------------+-------------------+-------------+----------------+-----------+--------+\n",
      "|Origin_airport|Destination_airport|Total_Flights|Total_Passengers|Total_Seats|Distance|\n",
      "+--------------+-------------------+-------------+----------------+-----------+--------+\n",
      "|           JFK|                AFW|            8|               2|       2002|  1402.0|\n",
      "|           JFK|                JFK|           52|            4846|       8875|     0.0|\n",
      "|           AFW|                JFK|            6|               0|       1457|  1402.0|\n",
      "+--------------+-------------------+-------------+----------------+-----------+--------+\n",
      "\n"
     ]
    }
   ],
   "source": [
    "query_15 = \"\"\"\n",
    "            SELECT Origin_airport, Destination_airport, \n",
    "               SUM(Flights) AS Total_Flights, \n",
    "               SUM(Passengers) AS Total_Passengers,\n",
    "               SUM(Seats) AS Total_Seats,\n",
    "               ROUND(MEAN(Distance), '0.00') AS Distance\n",
    "            FROM airports\n",
    "            WHERE Origin_airport IN ('AFW', 'JFK') \n",
    "            AND Destination_airport IN ('AFW', 'JFK')\n",
    "            GROUP BY Origin_airport, Destination_airport\n",
    "\n",
    "\"\"\"\n",
    "result_15 = sqlContext.sql(query_15)\n",
    "\n",
    "result_15.show()"
   ]
  },
  {
   "cell_type": "markdown",
   "id": "1bb2d8b8",
   "metadata": {},
   "source": [
    "Hallamos que en la base de datos existen registros de vuelos cuyo aeropuerto de salida y de entrada son el mismo, en este caso (JFK -JFK). Esta observación también tendría que ser investigada con mayor detenimiento. Por ahora, lo que haremos será filtrar la base de datos en Tableau eliminado los registros cuya distancia es 0"
   ]
  },
  {
   "cell_type": "markdown",
   "id": "25a04aa0",
   "metadata": {},
   "source": [
    "### 5.12 Max de Tasa de ocupación por ruta (ida y vuelta) y número de vuelos"
   ]
  },
  {
   "cell_type": "code",
   "execution_count": 74,
   "id": "7f70cff2",
   "metadata": {},
   "outputs": [
    {
     "name": "stdout",
     "output_type": "stream",
     "text": [
      "+--------+--------+-------+----------+-----+--------------+\n",
      "|Airport1|Airport2|Flights|Passengers|Seats|Occupancy_Rate|\n",
      "+--------+--------+-------+----------+-----+--------------+\n",
      "|     IAD|     MCW|      6|       972|  972|         100.0|\n",
      "|     BIS|     IAD|      4|       648|  648|         100.0|\n",
      "|     IND|     OSH|      4|       650|  650|         100.0|\n",
      "|     DQF|     SLN|      3|       548|  548|         100.0|\n",
      "|     FTW|     PVU|      2|       300|  300|         100.0|\n",
      "|     AMA|     MOD|      2|       100|  100|         100.0|\n",
      "|     ALO|     MSO|      2|       340|  340|         100.0|\n",
      "|     CSG|     LUK|      2|       100|  100|         100.0|\n",
      "|     PDX|     TIW|      2|        18|   18|         100.0|\n",
      "|     ASL|     MEM|      2|        16|   16|         100.0|\n",
      "|     BZN|     OKC|      2|       100|  100|         100.0|\n",
      "|     ALO|     GGG|      2|       168|  168|         100.0|\n",
      "|     CLL|     LWC|      2|        60|   60|         100.0|\n",
      "|     LWC|     OKC|      2|        38|   38|         100.0|\n",
      "|     LRU|     OMA|      2|       100|  100|         100.0|\n",
      "+--------+--------+-------+----------+-----+--------------+\n",
      "\n"
     ]
    }
   ],
   "source": [
    "query_10 = \"\"\"\n",
    "\n",
    "            WITH table1 AS \n",
    "                (\n",
    "                SELECT LEAST(Origin_airport, Destination_airport) AS Airport1, \n",
    "                       GREATEST(Destination_airport, Origin_airport) AS Airport2, \n",
    "                       SUM(Flights) AS Flights,\n",
    "                       SUM(Passengers) AS Passengers,\n",
    "                       SUM(Seats) AS Seats\n",
    "                FROM airports\n",
    "                GROUP BY Airport1, Airport2\n",
    "                ORDER BY 1,2\n",
    "                )\n",
    "            SELECT t.*, (Passengers*100/Seats) AS Occupancy_Rate\n",
    "            FROM table1 t \n",
    "            WHERE (Passengers * 100 / Seats) IS NOT NULL\n",
    "            AND (Passengers * 100 / Seats) > 0\n",
    "            AND (Passengers * 100 / Seats) <= 100\n",
    "            ORDER BY Occupancy_Rate DESC, Flights DESC\n",
    "            LIMIT 15;\n",
    "          \"\"\"\n",
    "\n",
    "result_10 = sqlContext.sql(query_10)\n",
    "\n",
    "result_10.show()"
   ]
  },
  {
   "cell_type": "markdown",
   "id": "8fd5f959",
   "metadata": {},
   "source": [
    "Las 15 rutas que tienen la mayor capacidad de ocupación (100%) presentan muy pocos vuelos en todo el período (entre 6 y 2 durante 20 años)"
   ]
  },
  {
   "cell_type": "markdown",
   "id": "de03f1ff",
   "metadata": {},
   "source": [
    "### 5.13 Max de Tasa de ocupación por ruta (ida y vuelta), vuelos, asientos y pasajeros"
   ]
  },
  {
   "cell_type": "code",
   "execution_count": 75,
   "id": "be89c081",
   "metadata": {},
   "outputs": [
    {
     "name": "stdout",
     "output_type": "stream",
     "text": [
      "+--------+--------+-------+----------+--------+--------------+\n",
      "|Airport1|Airport2|Flights|Passengers|   Seats|Occupancy_Rate|\n",
      "+--------+--------+-------+----------+--------+--------------+\n",
      "|     HNL|     OGG| 755662|  62109354|96640901|          64.0|\n",
      "|     LAX|     SFO| 600392|  51119989|79405656|          64.0|\n",
      "|     LAS|     LAX| 586580|  52511530|80532768|          65.0|\n",
      "|     PDX|     SEA| 560063|  18475771|34650955|          53.0|\n",
      "|     LAX|     PHX| 514206|  42695385|65619395|          65.0|\n",
      "|     BOS|     LGA| 470736|  31242486|64897330|          48.0|\n",
      "|     MSP|     ORD| 465125|  31301666|55325318|          57.0|\n",
      "|     LAS|     PHX| 455608|  42979048|64844100|          66.0|\n",
      "|     DCA|     LGA| 439107|  29471657|60663368|          49.0|\n",
      "|     LAX|     SAN| 430584|  11686171|22820096|          51.0|\n",
      "|     LGA|     ORD| 424269|  39981416|59616532|          67.0|\n",
      "|     DAL|     HOU| 408272|  35573141|53054549|          67.0|\n",
      "|     ATL|     DFW| 390078|  42941213|59978776|          72.0|\n",
      "|     LAX|     OAK| 371652|  30429561|47045709|          65.0|\n",
      "|     EWR|     ORD| 368692|  31122765|50434803|          62.0|\n",
      "+--------+--------+-------+----------+--------+--------------+\n",
      "\n"
     ]
    }
   ],
   "source": [
    "query_11 = \"\"\"\n",
    "\n",
    "            WITH table1 AS \n",
    "                (\n",
    "                SELECT LEAST(Origin_airport, Destination_airport) AS Airport1, \n",
    "                       GREATEST(Destination_airport, Origin_airport) AS Airport2, \n",
    "                       SUM(Flights) AS Flights,\n",
    "                       SUM(Passengers) AS Passengers,\n",
    "                       SUM(Seats) AS Seats\n",
    "                FROM airports\n",
    "                GROUP BY Airport1, Airport2\n",
    "                ORDER BY 1,2\n",
    "                )\n",
    "            SELECT t.*, ROUND((Passengers*100/Seats), '0.00') AS Occupancy_Rate\n",
    "            FROM table1 t \n",
    "            WHERE (Passengers * 100 / Seats) IS NOT NULL\n",
    "            AND (Passengers * 100 / Seats) > 0\n",
    "            AND (Passengers * 100 / Seats) <= 100\n",
    "            ORDER BY Flights DESC, Seats DESC, Passengers DESC, Occupancy_Rate DESC\n",
    "            LIMIT 15;\n",
    "          \"\"\"\n",
    "\n",
    "result_11 = sqlContext.sql(query_11)\n",
    "\n",
    "result_11.show()"
   ]
  },
  {
   "cell_type": "markdown",
   "id": "ec37354e",
   "metadata": {},
   "source": [
    "Relacionando la tasa de ocupación con el mayor número de vuelos, pasajeros y sillas podemos determinar que las dos rutas que mejor cumplieron la meta fueron las cubiertas entre los aeropuertos de Honolulu (NHL) y Kahului (OGG) y Los Ángeles (LAX) y San Francisco (SFO). Recordemos que ya habíamos determinado que estas rutas tuvieron la mayor cantidad de pasajeros en el período "
   ]
  },
  {
   "cell_type": "markdown",
   "id": "cda4bd90",
   "metadata": {},
   "source": [
    "### 5.14 Número de vuelos por distancia"
   ]
  },
  {
   "cell_type": "code",
   "execution_count": 76,
   "id": "4cabca78",
   "metadata": {},
   "outputs": [
    {
     "name": "stdout",
     "output_type": "stream",
     "text": [
      "+--------+--------+--------+-------+\n",
      "|Airport1|Airport2|Distance|Flights|\n",
      "+--------+--------+--------+-------+\n",
      "|     HNL|     OGG|   100.0| 755662|\n",
      "|     LAX|     SFO|   337.0| 600392|\n",
      "|     LAS|     LAX|   236.0| 586580|\n",
      "|     PDX|     SEA|   129.0| 560063|\n",
      "|     LAX|     PHX|   370.0| 514206|\n",
      "|     BOS|     LGA|   185.0| 470736|\n",
      "|     MSP|     ORD|   334.0| 465125|\n",
      "|     LAS|     PHX|   256.0| 455608|\n",
      "|     DCA|     LGA|   214.0| 439107|\n",
      "|     LAX|     SAN|   109.0| 430584|\n",
      "|     LGA|     ORD|   733.0| 424269|\n",
      "|     DAL|     HOU|   239.0| 408272|\n",
      "|     ATL|     DFW|   732.0| 390078|\n",
      "|     LAX|     OAK|   337.0| 371652|\n",
      "|     EWR|     ORD|   719.0| 368692|\n",
      "+--------+--------+--------+-------+\n",
      "\n"
     ]
    }
   ],
   "source": [
    "query_12 = \"\"\"\n",
    "             WITH table1 AS \n",
    "                (\n",
    "                SELECT LEAST(Origin_airport, Destination_airport) AS Airport1, \n",
    "                       GREATEST(Destination_airport, Origin_airport) AS Airport2, \n",
    "                       ROUND(MEAN(Distance), '0.00') AS Distance,\n",
    "                       SUM(Flights) AS Flights\n",
    "                FROM airports\n",
    "                GROUP BY Airport1, Airport2\n",
    "                ORDER BY 1,2\n",
    "                )\n",
    "            SELECT t.*\n",
    "            FROM table1 t\n",
    "            WHERE Flights > 0\n",
    "            ORDER BY Flights DESC\n",
    "            LIMIT 15;\n",
    "          \"\"\"\n",
    "\n",
    "result_12 = sqlContext.sql(query_12)\n",
    "\n",
    "result_12.show()"
   ]
  },
  {
   "cell_type": "markdown",
   "id": "b63fc1ea",
   "metadata": {},
   "source": [
    "Revisamos la distancia de rutas con mayor cantidad de vuelos: Honolulu (NHL) y Kahului (OGG) y Los Ángeles (LAX) y San Francisco (SFO)"
   ]
  },
  {
   "cell_type": "markdown",
   "id": "ae14800a",
   "metadata": {},
   "source": [
    "### 5.15 Max de distancia por número de vuelos"
   ]
  },
  {
   "cell_type": "code",
   "execution_count": 77,
   "id": "2c8ba101",
   "metadata": {},
   "outputs": [
    {
     "name": "stdout",
     "output_type": "stream",
     "text": [
      "+--------+--------+--------+-------+\n",
      "|Airport1|Airport2|Distance|Flights|\n",
      "+--------+--------+--------+-------+\n",
      "|     BDL|     HNL|  5018.0|      1|\n",
      "|     HNL|     JFK|  4983.0|     80|\n",
      "|     HIK|     JFK|  4983.0|      2|\n",
      "|     HNL|     LGA|  4976.0|      1|\n",
      "|     EWR|     HNL|  4962.0|   8318|\n",
      "|     JFK|     OGG|  4924.0|      1|\n",
      "|     HNL|     PHL|  4919.0|      1|\n",
      "|     HNL|     ISO|  4860.0|      1|\n",
      "|     OGG|     PHL|  4859.0|      1|\n",
      "|     HNL|     IAD|  4817.0|      3|\n",
      "|     BWI|     OGG|  4793.0|      1|\n",
      "|     OGG|     RIC|  4780.0|      1|\n",
      "|     HNL|     SFB|  4755.0|      2|\n",
      "|     OGG|     RDU|  4722.0|      1|\n",
      "|     MCO|     OGG|  4679.0|      1|\n",
      "+--------+--------+--------+-------+\n",
      "\n"
     ]
    }
   ],
   "source": [
    "query_13 = \"\"\"\n",
    "             WITH table1 AS \n",
    "                (\n",
    "                SELECT LEAST(Origin_airport, Destination_airport) AS Airport1, \n",
    "                       GREATEST(Destination_airport, Origin_airport) AS Airport2, \n",
    "                       ROUND(MEAN(Distance), '0.00') AS Distance,\n",
    "                       SUM(Flights) AS Flights\n",
    "                FROM airports\n",
    "                GROUP BY Airport1, Airport2\n",
    "                ORDER BY 1,2\n",
    "                )\n",
    "            SELECT t.*\n",
    "            FROM table1 t\n",
    "            ORDER by Distance DESC\n",
    "            limit 15;\n",
    "          \"\"\"\n",
    "\n",
    "result_13 = sqlContext.sql(query_13)\n",
    "\n",
    "result_13.show()"
   ]
  },
  {
   "cell_type": "markdown",
   "id": "b085c55c",
   "metadata": {},
   "source": [
    "La mayor cantidad de rutas de larga distancia presentan muy pocos registros de vuelos durante el período. Sin embargo, la ruta Newark (EWR) - Honolulu (NHL) (ida y vuelta) tiene 8318 en el período. Inspeccionaremos más a fondo esta conclusión en Tableau"
   ]
  },
  {
   "cell_type": "markdown",
   "id": "f74ef496",
   "metadata": {},
   "source": [
    "### 5.16 Ocupación por número de vuelos y fecha \n"
   ]
  },
  {
   "cell_type": "code",
   "execution_count": 94,
   "id": "fb481c22",
   "metadata": {},
   "outputs": [
    {
     "name": "stdout",
     "output_type": "stream",
     "text": [
      "+--------+--------+----------+-------+----------+------+--------------+\n",
      "|Airport1|Airport2|      Date|Flights|Passengers| Seats|Occupancy_Rate|\n",
      "+--------+--------+----------+-------+----------+------+--------------+\n",
      "|     LAX|     SFO|1990-08-01|   5103|    401424|637255|          63.0|\n",
      "|     LAX|     SFO|1990-10-01|   5059|    321963|626031|          51.0|\n",
      "|     LAX|     SFO|1990-07-01|   5053|    307586|621239|          50.0|\n",
      "|     LAX|     SFO|1990-09-01|   4878|    314631|599524|          52.0|\n",
      "|     LAX|     SFO|1990-06-01|   4854|    281987|602955|          47.0|\n",
      "|     LAX|     SFO|1990-12-01|   4655|    343118|602276|          57.0|\n",
      "|     LAX|     SFO|1990-11-01|   4597|    348875|612257|          57.0|\n",
      "|     HNL|     OGG|1995-08-01|   4442|    393851|640874|          61.0|\n",
      "|     HNL|     OGG|1994-08-01|   4407|    391786|632637|          62.0|\n",
      "|     HNL|     OGG|1995-07-01|   4397|    373172|637710|          59.0|\n",
      "|     LAX|     SFO|1991-01-01|   4257|    340045|546794|          62.0|\n",
      "|     HNL|     OGG|1994-12-01|   4257|    319090|621172|          51.0|\n",
      "|     HNL|     OGG|1995-06-01|   4226|    337048|605528|          56.0|\n",
      "|     HNL|     OGG|1995-05-01|   4202|    309598|598697|          52.0|\n",
      "|     LAX|     SFO|1990-05-01|   4195|    265001|575483|          46.0|\n",
      "+--------+--------+----------+-------+----------+------+--------------+\n",
      "\n"
     ]
    }
   ],
   "source": [
    "query_14 = \"\"\"\n",
    "             WITH table1 AS \n",
    "                (\n",
    "                SELECT LEAST(Origin_airport, Destination_airport) AS Airport1, \n",
    "                       GREATEST(Destination_airport, Origin_airport) AS Airport2, \n",
    "                       Fly_Date AS Date,\n",
    "                       SUM(Flights) AS Flights,\n",
    "                       SUM(Passengers) AS Passengers,\n",
    "                       SUM(Seats) AS Seats\n",
    "                FROM airports\n",
    "                GROUP BY Airport1, Airport2, Date\n",
    "                ORDER BY 1,2\n",
    "                )\n",
    "            SELECT t.*, ROUND((Passengers*100/Seats), '0.00') AS Occupancy_Rate\n",
    "            FROM table1 t\n",
    "            ORDER by Flights DESC, Date \n",
    "            limit 15;\n",
    "          \"\"\"\n",
    "\n",
    "result_14 = sqlContext.sql(query_14)\n",
    "\n",
    "result_14.show()"
   ]
  },
  {
   "cell_type": "markdown",
   "id": "0cc0799e",
   "metadata": {},
   "source": [
    "Las rutas con mayor tasa de ocupación (entre 47% y 63%) y mayor número de vuelos pertenecen a las rutas (ida y vuelta) entre Los Ángeles (LAX) y San Francisco (SFO) y Honolulu (NHL) y Kahului (OGG) en diferentes fechas. Los meses con mayor número de vuelos y mejor tasa de ocupación fueron agosto y octubre de 1990 de la ruta Los Ángeles (LAX) - San Francisco (SFO)"
   ]
  },
  {
   "cell_type": "code",
   "execution_count": null,
   "id": "5714b53e",
   "metadata": {},
   "outputs": [],
   "source": []
  }
 ],
 "metadata": {
  "kernelspec": {
   "display_name": "Python 3 (ipykernel)",
   "language": "python",
   "name": "python3"
  },
  "language_info": {
   "codemirror_mode": {
    "name": "ipython",
    "version": 3
   },
   "file_extension": ".py",
   "mimetype": "text/x-python",
   "name": "python",
   "nbconvert_exporter": "python",
   "pygments_lexer": "ipython3",
   "version": "3.11.4"
  }
 },
 "nbformat": 4,
 "nbformat_minor": 5
}
